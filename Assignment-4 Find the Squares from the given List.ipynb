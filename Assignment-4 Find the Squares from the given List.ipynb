{
 "cells": [
  {
   "cell_type": "markdown",
   "id": "be21dada",
   "metadata": {},
   "source": [
    "# Write a Python program to square the elements of a list using map() function."
   ]
  },
  {
   "cell_type": "markdown",
   "id": "ea647342",
   "metadata": {},
   "source": [
    "#### Sample List: [4, 5, 2, 9]\n",
    "\n",
    "#### Square the elements of the list:\n",
    "\n",
    "#### [16, 25, 4, 81]"
   ]
  },
  {
   "cell_type": "markdown",
   "id": "2c62e865",
   "metadata": {},
   "source": [
    "------"
   ]
  },
  {
   "cell_type": "code",
   "execution_count": null,
   "id": "4d28e6ce",
   "metadata": {},
   "outputs": [],
   "source": [
    "def square_num(n):\n",
    "    return n * n\n",
    "nums = [4, 5, 2, 9]\n",
    "print(\"sampiel List: \",nums)\n",
    "result = map(square_num, nums)\n",
    "print(\"Square the elements of the list:\")\n",
    "print(list(result))"
   ]
  }
 ],
 "metadata": {
  "kernelspec": {
   "display_name": "Python 3 (ipykernel)",
   "language": "python",
   "name": "python3"
  },
  "language_info": {
   "codemirror_mode": {
    "name": "ipython",
    "version": 3
   },
   "file_extension": ".py",
   "mimetype": "text/x-python",
   "name": "python",
   "nbconvert_exporter": "python",
   "pygments_lexer": "ipython3",
   "version": "3.9.0b2"
  }
 },
 "nbformat": 4,
 "nbformat_minor": 5
}
